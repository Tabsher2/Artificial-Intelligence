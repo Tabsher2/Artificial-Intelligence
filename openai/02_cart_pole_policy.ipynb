{
 "cells": [
  {
   "cell_type": "markdown",
   "metadata": {},
   "source": [
    "# Explicit Balance agent for cart pole environment #"
   ]
  },
  {
   "cell_type": "code",
   "execution_count": 9,
   "metadata": {},
   "outputs": [],
   "source": [
    "import gym\n",
    "import numpy as np\n",
    "\n",
    "%matplotlib inline\n",
    "import matplotlib.pyplot as plt\n",
    "\n",
    "import time"
   ]
  },
  {
   "cell_type": "code",
   "execution_count": 10,
   "metadata": {},
   "outputs": [],
   "source": [
    "env = gym.make(\"CartPole-v1\")"
   ]
  },
  {
   "cell_type": "code",
   "execution_count": 37,
   "metadata": {},
   "outputs": [
    {
     "name": "stdout",
     "output_type": "stream",
     "text": [
      "[-0.02711614 -0.044283    0.03602844  0.0255794 ]\n",
      "Total reward: 190.0\n"
     ]
    }
   ],
   "source": [
    "total_reward = 0\n",
    "done = False\n",
    "state = env.reset()\n",
    "print(state)\n",
    "env.render()\n",
    "time.sleep(0.1)\n",
    "action = 0\n",
    "\n",
    "for _ in np.arange(200):\n",
    "    action = 1 if action == 0 else 0\n",
    "    if (state[2] < -0.03):\n",
    "        action = 0\n",
    "    elif (state[2] > 0.03):\n",
    "        action = 1\n",
    "    #action = 0 if np.matmul(weight_vector, state) < 0 else 1\n",
    "    state, reward, done, _ = env.step(action)\n",
    "    total_reward += reward\n",
    "    env.render()\n",
    "    time.sleep(0.1)\n",
    "    if done: break\n",
    "    \n",
    "env.close()\n",
    "print(\"Total reward:\", total_reward)"
   ]
  },
  {
   "cell_type": "code",
   "execution_count": null,
   "metadata": {},
   "outputs": [],
   "source": []
  },
  {
   "cell_type": "code",
   "execution_count": null,
   "metadata": {},
   "outputs": [],
   "source": []
  }
 ],
 "metadata": {
  "kernelspec": {
   "display_name": "Python 3",
   "language": "python",
   "name": "python3"
  }
 },
 "nbformat": 4,
 "nbformat_minor": 2
}
