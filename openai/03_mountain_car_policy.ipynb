{
 "cells": [
  {
   "cell_type": "markdown",
   "metadata": {},
   "source": [
    "# Cross Entropy Mountain Car #"
   ]
  },
  {
   "cell_type": "markdown",
   "metadata": {},
   "source": [
    "## Imports ##"
   ]
  },
  {
   "cell_type": "code",
   "execution_count": 58,
   "metadata": {},
   "outputs": [],
   "source": [
    "import gym\n",
    "import tensorflow as tf\n",
    "import numpy as np\n",
    "\n",
    "%matplotlib inline\n",
    "import matplotlib.pyplot as plt\n",
    "\n",
    "import time"
   ]
  },
  {
   "cell_type": "markdown",
   "metadata": {},
   "source": [
    "## Environment ##"
   ]
  },
  {
   "cell_type": "code",
   "execution_count": 59,
   "metadata": {},
   "outputs": [
    {
     "name": "stdout",
     "output_type": "stream",
     "text": [
      "\u001b[33mWARN: gym.spaces.Box autodetected dtype as <class 'numpy.float32'>. Please provide explicit dtype.\u001b[0m\n"
     ]
    }
   ],
   "source": [
    "# Create the Mountain-Car game environment\n",
    "env = gym.make('MountainCar-v0')\n",
    "\n",
    "def compute_modified_reward(next_state):\n",
    "    modified_reward = np.square(max(0, next_state[0] + 0.5))\n",
    "    if next_state[0] >= 0.5: \n",
    "        modified_reward += 1.0\n",
    "    return modified_reward"
   ]
  },
  {
   "cell_type": "markdown",
   "metadata": {},
   "source": [
    "## Hyperparameters ##"
   ]
  },
  {
   "cell_type": "markdown",
   "metadata": {},
   "source": [
    "Network has to be complex enough. Batch size has to be large enough."
   ]
  },
  {
   "cell_type": "code",
   "execution_count": 60,
   "metadata": {},
   "outputs": [],
   "source": [
    "# Environment parameters\n",
    "state_size = 2\n",
    "action_size = 3\n",
    "\n",
    "# Training parameters\n",
    "max_episodes = 501          # number of episodes to train\n",
    "max_steps = 200                # max number of step in an episode\n",
    "gamma = 0.99                   # future reward discount\n",
    "percentile = 70\n",
    "\n",
    "# Q neural network parameters\n",
    "hidden_layer_size = 128         # number of neurons in first hidden layer\n",
    "learning_rate = 0.01         # learning rate"
   ]
  },
  {
   "cell_type": "markdown",
   "metadata": {},
   "source": [
    "## Neural network ##"
   ]
  },
  {
   "cell_type": "code",
   "execution_count": 61,
   "metadata": {},
   "outputs": [],
   "source": [
    "# first hidden layer 128 neurons\n",
    "\n",
    "class QNN:\n",
    "    def __init__(self, \n",
    "                 state_size = state_size, \n",
    "                 action_size = action_size, \n",
    "                 first_layer_size = first_layer_size,\n",
    "                 learning_rate = learning_rate, \n",
    "                 name = 'qnn'):\n",
    "        \n",
    "        # state inputs to the Q-network\n",
    "        with tf.variable_scope(name):\n",
    "    \n",
    "            # Prediction part of the QNN\n",
    "            # computes q(s, a) for given state s and all actions a\n",
    "            # so best action can be determined as argmax_a q(s, a)\n",
    "    \n",
    "            # Input layer, state s is input\n",
    "            self.state = tf.placeholder(tf.float32, \n",
    "                                        [None, state_size])\n",
    "            \n",
    "            # First hidden layer, ReLU activation\n",
    "            self.first_layer = tf.contrib.layers.fully_connected(self.state, \n",
    "                                                                 first_layer_size)\n",
    "\n",
    "            # Output layer, linear activation, q_vector(s, a) is output\n",
    "            self.logits = tf.contrib.layers.fully_connected(self.first_layer,\n",
    "                                                              action_size,\n",
    "                                                              activation_fn = None)\n",
    "    \n",
    "            # Output layer\n",
    "            self.probabilities = tf.nn.softmax(self.logits)\n",
    "            \n",
    "            # Action a\n",
    "            self.actions = tf.placeholder(tf.int32, \n",
    "                                         [None])\n",
    "            # One-hot encoded action a \n",
    "            #\n",
    "            # encoded_action_vector = [1, 0] if action a = 0\n",
    "            # encoded_action_vector = [0, 1] if action a = 1\n",
    "            self.one_hot_actions = tf.one_hot(self.actions, \n",
    "                                               action_size)\n",
    "    \n",
    "            self.cross_entropy = tf.nn.softmax_cross_entropy_with_logits_v2(\n",
    "            logits = self.logits,\n",
    "            labels = self.one_hot_actions)\n",
    "    \n",
    "            # cost\n",
    "            self.cost = tf.reduce_mean(self.cross_entropy)\n",
    "            \n",
    "            # Optimizer\n",
    "            self.optimizer = tf.train.AdamOptimizer(learning_rate).minimize(self.cost)\n",
    "            \n",
    "    # get best action \n",
    "    def get_action(self, state):\n",
    "        feed_dict = { self.state : np.array([state]) } \n",
    "        probabilities = sess.run(self.probabilities, feed_dict = feed_dict)\n",
    "        return np.random.choice(action_size, p=probabilities[0])\n",
    "        \n",
    "    # train based on a batch of data from \n",
    "    def train(self, batch):    \n",
    "        states, actions = zip(*batch)\n",
    "        states = np.array(states)\n",
    "        actions = np.array(actions)\n",
    "        \n",
    "        feed_dict = {\n",
    "            self.states : states,\n",
    "            self.actions : actions\n",
    "        }\n",
    "\n",
    "        sess.run(self.optimizer, feed_dict = feed_dict)\n",
    "        "
   ]
  },
  {
   "cell_type": "markdown",
   "metadata": {},
   "source": [
    "## Training ##"
   ]
  },
  {
   "cell_type": "code",
   "execution_count": 62,
   "metadata": {},
   "outputs": [],
   "source": [
    "tf.reset_default_graph()\n",
    "qnn = QNN(name = 'qnn',\n",
    "          first_layer_size = first_layer_size,\n",
    "          learning_rate = learning_rate)"
   ]
  },
  {
   "cell_type": "code",
   "execution_count": 63,
   "metadata": {},
   "outputs": [],
   "source": [
    "import random\n",
    "import bisect\n",
    "import time\n",
    "\n",
    "with tf.Session() as sess:\n",
    "    \n",
    "    # Initialize variables\n",
    "    sess.run(tf.global_variables_initializer())\n",
    "    \n",
    "    start_index = int(max_episodes * percentile / 100)\n",
    "    \n",
    "    while True:\n",
    "        \n",
    "        total_reward_list = []\n",
    "        trajectory_list = []\n",
    "        \n",
    "        for e in np.arange(max_episodes):\n",
    "            total_reward = 0.0\n",
    "            trajectory = []\n",
    "            state = env.reset()\n",
    "            for s in np.arange(max_steps):\n",
    "                action = net.get_action(state)\n",
    "                next_state, reward, done, _ = env.step(action)\n",
    "                total_reward += reward\n",
    "                trajectory.append((state, action))\n",
    "                state = next_state\n",
    "                if done: break\n",
    "                    \n",
    "            indedx = bisect.bisect(total_reward_list, total_reward)\n",
    "            total_reward_list.insert(index, total_reward)\n",
    "            trajectory_list.insert(index, trajectory)\n",
    "            \n",
    "        state_action_pairs = []\n",
    "        for trajectory in trajectory_list[start_index]:\n",
    "            for state_action_pair in trajectory:\n",
    "                state_action_pairs.append(state_action_pair)\n",
    "        # shuffle to avoid correlations between adjacent states\n",
    "        random.shuffle(state_action_pairs) \n",
    "        n = len(state_action_pairs)\n",
    "        batches = [state_action_pairs[k:k + batch_size] for k in np.arange(0, n, batch_size)]\n",
    "\n",
    "        for batch in batches:\n",
    "            net.train(batch)\n",
    "\n",
    "        # test agent\n",
    "        state = env.reset()\n",
    "        env.render()\n",
    "        time.sleep(0.05)\n",
    "        total_reward = 0.0\n",
    "        for s in np.arange(max_steps):\n",
    "            action = net.get_action(state)\n",
    "            state, reward, done, _ = env.step(action)\n",
    "            total_reward += reward\n",
    "            env.render()\n",
    "            time.sleep(0.05)\n",
    "            if done: break\n",
    "                \n",
    "        env.close()\n",
    "        print(\"Total reward:\", total_reward)\n",
    "        \n",
    "        if total_reward != -200:\n",
    "            break    \n",
    "        "
   ]
  },
  {
   "cell_type": "code",
   "execution_count": null,
   "metadata": {},
   "outputs": [],
   "source": []
  }
 ],
 "metadata": {
  "kernelspec": {
   "display_name": "Python 3",
   "language": "python",
   "name": "python3"
  },
  "language_info": {
   "codemirror_mode": {
    "name": "ipython",
    "version": 3
   },
   "file_extension": ".py",
   "mimetype": "text/x-python",
   "name": "python",
   "nbconvert_exporter": "python",
   "pygments_lexer": "ipython3",
   "version": "3.6.5"
  }
 },
 "nbformat": 4,
 "nbformat_minor": 2
}
